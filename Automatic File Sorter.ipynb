{
 "cells": [
  {
   "cell_type": "markdown",
   "id": "611901ca-e68f-4a11-a997-4e4ac502b35c",
   "metadata": {},
   "source": [
    "<h1>Automatic File Sorter Explorer</h1>"
   ]
  },
  {
   "cell_type": "code",
   "execution_count": 30,
   "id": "c8ecd5bf-876b-4848-9843-fea17041b210",
   "metadata": {},
   "outputs": [],
   "source": [
    "import os,shutil"
   ]
  },
  {
   "cell_type": "code",
   "execution_count": 26,
   "id": "b7d9d2ee-e5c7-4a97-91aa-ce8a73846942",
   "metadata": {},
   "outputs": [],
   "source": [
    "path=r\"C:/Users/munee/Downloads/DF_data/\"  //Add your path"
   ]
  },
  {
   "cell_type": "code",
   "execution_count": 27,
   "id": "2e24dcc9-4f1a-458a-837b-d5007e79ecc5",
   "metadata": {},
   "outputs": [],
   "source": [
    "file_name=os.listdir(path)"
   ]
  },
  {
   "cell_type": "code",
   "execution_count": 28,
   "id": "47de0ff5-5c62-4666-b9fc-83629af09871",
   "metadata": {},
   "outputs": [],
   "source": [
    "folder_names=[\"csv files\",\"image files\",\"Text files\",\"PowerBI files\"]\n",
    "for i in range(0,4):\n",
    "    if not os.path.exists(path + folder_names[i]):\n",
    "       os.makedirs(path + folder_names[i])"
   ]
  },
  {
   "cell_type": "code",
   "execution_count": 29,
   "id": "0f2cc85f-a930-40be-a7ef-ae1f173b26f7",
   "metadata": {},
   "outputs": [],
   "source": [
    "for file in file_name:\n",
    "    if \".csv\" in file and not os.path.exists(path + \"csv files/\"+ file):\n",
    "        shutil.move(path+file,path + \"csv files/\"+ file)\n",
    "    elif \".pbix\" in file and not os.path.exists(path + \"PowerBI files/\"+ file):\n",
    "        shutil.move(path+file,path + \"PowerBI files/\"+ file)\n",
    "    elif \".txt\" in file and not os.path.exists(path + \"Text files/\"+ file):\n",
    "        shutil.move(path+file,path + \"Text files/\"+ file)\n",
    "    elif \".png\" in file and not os.path.exists(path + \"Image files/\"+ file):\n",
    "        shutil.move(path+file,path + \"Image files/\"+ file)"
   ]
  },
  {
   "cell_type": "code",
   "execution_count": null,
   "id": "3b78542b-de32-4e7e-b4a0-f795c8f4f989",
   "metadata": {},
   "outputs": [],
   "source": []
  }
 ],
 "metadata": {
  "kernelspec": {
   "display_name": "Python 3 (ipykernel)",
   "language": "python",
   "name": "python3"
  },
  "language_info": {
   "codemirror_mode": {
    "name": "ipython",
    "version": 3
   },
   "file_extension": ".py",
   "mimetype": "text/x-python",
   "name": "python",
   "nbconvert_exporter": "python",
   "pygments_lexer": "ipython3",
   "version": "3.11.7"
  }
 },
 "nbformat": 4,
 "nbformat_minor": 5
}
